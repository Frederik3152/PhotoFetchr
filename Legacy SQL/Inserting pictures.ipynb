{
 "cells": [
  {
   "cell_type": "markdown",
   "id": "c4b9bd31",
   "metadata": {},
   "source": [
    "### Inserting Pictures in the database"
   ]
  },
  {
   "cell_type": "code",
   "execution_count": 4,
   "id": "6e4cd354",
   "metadata": {},
   "outputs": [],
   "source": [
    "import os\n",
    "import psycopg2\n",
    "from psycopg2 import sql\n",
    "import datetime\n",
    "from config import config\n",
    "\n",
    "# Set the global variable db_config as the database login credentials\n",
    "db_config = config()\n",
    "\n",
    "# Connect to the database\n",
    "connection = psycopg2.connect(**db_config)\n",
    "\n",
    "# Specify the folder path and place\n",
    "folder_path = 'D:\\\\Misc billeder\\\\Pictures'\n",
    "country = 'Denmark' # Change this manually\n",
    "\n",
    "# Iterate over files in the folder\n",
    "for filename in os.listdir(folder_path):\n",
    "    if filename.endswith(('.jpg', '.jpeg', '.png', '.JPG')):\n",
    "        file_path = os.path.join(folder_path, filename)\n",
    "\n",
    "        # Get the last change date using Windows file attributes\n",
    "        last_change_timestamp = os.path.getmtime(file_path)\n",
    "        last_change_date = datetime.datetime.fromtimestamp(last_change_timestamp)\n",
    "\n",
    "        # Read the image file as binary data\n",
    "        with open(file_path, 'rb') as image_file:\n",
    "            image_data = image_file.read()\n",
    "\n",
    "        # Insert the data into the database\n",
    "        with connection.cursor() as cursor:\n",
    "            insert_query = sql.SQL('INSERT INTO pi_data.pictures (\"file_name\", \"content\", \"country\", \"photo_taken\") VALUES (%s, %s, %s, %s)')\n",
    "            cursor.execute(insert_query, (filename, psycopg2.Binary(image_data), country, last_change_date))\n",
    "\n",
    "# Commit the transactions and close the connection\n",
    "connection.commit()\n",
    "connection.close()"
   ]
  }
 ],
 "metadata": {
  "kernelspec": {
   "display_name": "Python 3 (ipykernel)",
   "language": "python",
   "name": "python3"
  },
  "language_info": {
   "codemirror_mode": {
    "name": "ipython",
    "version": 3
   },
   "file_extension": ".py",
   "mimetype": "text/x-python",
   "name": "python",
   "nbconvert_exporter": "python",
   "pygments_lexer": "ipython3",
   "version": "3.10.9"
  }
 },
 "nbformat": 4,
 "nbformat_minor": 5
}
